{
 "cells": [
  {
   "cell_type": "markdown",
   "metadata": {},
   "source": [
    "## Solving integrals with `Sympy`\n",
    "\n",
    "This tutorial demonstrates how to evaluate definite and indefinite integrals with Sympy."
   ]
  },
  {
   "cell_type": "code",
   "execution_count": 1,
   "metadata": {
    "ExecuteTime": {
     "end_time": "2021-09-18T15:56:22.757710Z",
     "start_time": "2021-09-18T15:56:22.298180Z"
    }
   },
   "outputs": [],
   "source": [
    "# Import the libraries\n",
    "# conda install sympy or pip install sympy\n",
    "import sympy as sym\n",
    "from IPython.display import display, Math"
   ]
  },
  {
   "cell_type": "markdown",
   "metadata": {},
   "source": [
    "### Find the Inefinite Integral"
   ]
  },
  {
   "cell_type": "code",
   "execution_count": 136,
   "metadata": {
    "ExecuteTime": {
     "end_time": "2021-09-20T00:58:08.049744Z",
     "start_time": "2021-09-20T00:58:07.997944Z"
    }
   },
   "outputs": [
    {
     "data": {
      "text/latex": [
       "$\\displaystyle \\text{Find the indefinite integral for} \\int (\\frac{x^{2}}{\\sqrt{x^{3} + 3}})dx.$"
      ],
      "text/plain": [
       "<IPython.core.display.Math object>"
      ]
     },
     "metadata": {},
     "output_type": "display_data"
    },
    {
     "data": {
      "text/latex": [
       "$\\displaystyle \\text{The solution for} \\int (\\frac{x^{2}}{\\sqrt{x^{3} + 3}})dx \\quad \\Longrightarrow \\quad \\frac{2 \\sqrt{x^{3} + 3}}{3} + C$"
      ],
      "text/plain": [
       "<IPython.core.display.Math object>"
      ]
     },
     "metadata": {},
     "output_type": "display_data"
    }
   ],
   "source": [
    "# Problem 1. Define varaible x with Sympy\n",
    "x = sym.symbols('x')\n",
    "\n",
    "# Write the equation\n",
    "f_x = x**2 / sym.sqrt(x**3 + 3)\n",
    "\n",
    "# Integrate the function\n",
    "f_int = sym.integrate(f_x)\n",
    "\n",
    "\n",
    "# Print the solution\n",
    "display(Math('\\\\text{Find the indefinite integral for} \\int (%s)dx.' %sym.latex(f_x)))\n",
    "display(Math('\\\\text{The solution for} \\int (%s)dx \\\\quad \\\\Longrightarrow \\\\quad %s + C'\\\n",
    "             %(sym.latex(f_x), sym.latex(f_int))))"
   ]
  },
  {
   "cell_type": "code",
   "execution_count": 137,
   "metadata": {
    "ExecuteTime": {
     "end_time": "2021-09-20T00:58:08.939811Z",
     "start_time": "2021-09-20T00:58:08.868831Z"
    }
   },
   "outputs": [
    {
     "data": {
      "text/latex": [
       "$\\displaystyle \\text{Find the indefinite integral for} \\int x \\sin{\\left(3 x^{2} \\right)}dx.$"
      ],
      "text/plain": [
       "<IPython.core.display.Math object>"
      ]
     },
     "metadata": {},
     "output_type": "display_data"
    },
    {
     "data": {
      "text/latex": [
       "$\\displaystyle \\text{The solution for} \\int x \\sin{\\left(3 x^{2} \\right)}dx \\quad\\Longrightarrow \\quad - \\frac{\\cos{\\left(3 x^{2} \\right)}}{6} + C$"
      ],
      "text/plain": [
       "<IPython.core.display.Math object>"
      ]
     },
     "metadata": {},
     "output_type": "display_data"
    }
   ],
   "source": [
    "# Problem 2: We use varaible x from the preceding problem.\n",
    "\n",
    "# Define the problem\n",
    "f_x = x * sym.sin(3*x**2)\n",
    "\n",
    "# Integrate f_x\n",
    "f_int = sym.integrate(f_x)\n",
    "\n",
    "# Print the solution\n",
    "display(Math('\\\\text{Find the indefinite integral for} \\int %sdx.' %sym.latex(f_x)))\n",
    "display(Math('\\\\text{The solution for} \\\\int %sdx \\\\quad\\\\Longrightarrow \\\\quad %s + C'\\\n",
    "             %(sym.latex(f_x), sym.latex(f_int))))"
   ]
  },
  {
   "cell_type": "code",
   "execution_count": 138,
   "metadata": {
    "ExecuteTime": {
     "end_time": "2021-09-20T00:58:10.579115Z",
     "start_time": "2021-09-20T00:58:10.554452Z"
    }
   },
   "outputs": [
    {
     "data": {
      "text/latex": [
       "$\\displaystyle \\text{Find the indefinite integral for} \\int \\sin^{3}{\\left(x \\right)} \\cos{\\left(x \\right)}dx.$"
      ],
      "text/plain": [
       "<IPython.core.display.Math object>"
      ]
     },
     "metadata": {},
     "output_type": "display_data"
    },
    {
     "data": {
      "text/latex": [
       "$\\displaystyle \\text{The solution for} \\int \\sin^{3}{\\left(x \\right)} \\cos{\\left(x \\right)} dx \\quad\\Longrightarrow \\quad \\frac{\\sin^{4}{\\left(x \\right)}}{4} + C$"
      ],
      "text/plain": [
       "<IPython.core.display.Math object>"
      ]
     },
     "metadata": {},
     "output_type": "display_data"
    }
   ],
   "source": [
    "# Problem 3: We use varaible x from the preceding problem.\n",
    "\n",
    "# Define the problem\n",
    "g_x = (sym.sin(x))**3 * sym.cos(x) \n",
    "\n",
    "# Integrate f_x\n",
    "g_int = sym.integrate(g_x)\n",
    "\n",
    "# Print the solution\n",
    "display(Math('\\\\text{Find the indefinite integral for} \\int %sdx.' %sym.latex(g_x)))\n",
    "display(Math('\\\\text{The solution for} \\\\int %s dx \\\\quad\\\\Longrightarrow \\\\quad %s + C'\\\n",
    "             %(sym.latex(g_x), sym.latex(g_int))))"
   ]
  },
  {
   "cell_type": "markdown",
   "metadata": {
    "ExecuteTime": {
     "end_time": "2021-09-18T15:58:36.792813Z",
     "start_time": "2021-09-18T15:58:36.790083Z"
    }
   },
   "source": [
    "### Find Definite Integral"
   ]
  },
  {
   "cell_type": "code",
   "execution_count": 142,
   "metadata": {
    "ExecuteTime": {
     "end_time": "2021-09-20T01:00:00.757663Z",
     "start_time": "2021-09-20T01:00:00.650049Z"
    }
   },
   "outputs": [
    {
     "data": {
      "text/latex": [
       "$\\displaystyle \\text{We've integrated f(x) as follows:}$"
      ],
      "text/plain": [
       "<IPython.core.display.Math object>"
      ]
     },
     "metadata": {},
     "output_type": "display_data"
    },
    {
     "data": {
      "text/latex": [
       "$\\displaystyle \\int(\\sqrt{9 - x^{2}} + 5)dx \\quad \\Longleftrightarrow \\quad [\\frac{x \\sqrt{9 - x^{2}}}{2} + 5 x + \\frac{9 \\operatorname{asin}{\\left(\\frac{x}{3} \\right)}}{2}] + C$"
      ],
      "text/plain": [
       "<IPython.core.display.Math object>"
      ]
     },
     "metadata": {},
     "output_type": "display_data"
    },
    {
     "data": {
      "text/latex": [
       "$\\displaystyle \\text{The solution to the definite integral } \\int_{-3}^0(\\sqrt{9 - x^{2}} + 5)dx \\quad \\Longrightarrow \\quad \\frac{9 \\pi}{4} + 15$"
      ],
      "text/plain": [
       "<IPython.core.display.Math object>"
      ]
     },
     "metadata": {},
     "output_type": "display_data"
    }
   ],
   "source": [
    "# Problem 4: We use varaible x from the preceding problem.\n",
    "\n",
    "# Write the f(x) in terms of sin(x) and cos(x) using SymPy\n",
    "f_x  = 5 + sym.sqrt(9 - x**2)\n",
    "\n",
    "# Integrate f(x)\n",
    "f_int = sym.integrate(f_x)\n",
    "\n",
    "# Compute the definite integral from x = -3 to x = 0\n",
    "solution = sym.integrate(f_x, (x, -3, 0))\n",
    "\n",
    "# Print the results\n",
    "display(Math('\\\\text{We\\'ve integrated f(x) as follows:}'))\n",
    "display(Math('\\\\int(%s)dx \\\\quad \\\\Longleftrightarrow \\\\quad [%s] + C' \\\n",
    "             %(sym.latex(f_x), sym.latex(f_int))))\n",
    "\n",
    "display(Math('\\\\text{The solution to the definite integral } \\\n",
    "\\int_{-3}^0(%s)dx \\\\quad \\\\Longrightarrow \\\\quad %s' %(sym.latex(f_x), sym.latex(solution))))"
   ]
  },
  {
   "cell_type": "code",
   "execution_count": 143,
   "metadata": {
    "ExecuteTime": {
     "end_time": "2021-09-20T01:00:24.173977Z",
     "start_time": "2021-09-20T01:00:24.074094Z"
    }
   },
   "outputs": [
    {
     "data": {
      "text/latex": [
       "$\\displaystyle \\text{Find the indefinite integral for} \\int \\frac{x}{3 \\sqrt{x^{2} - 8}}dx.$"
      ],
      "text/plain": [
       "<IPython.core.display.Math object>"
      ]
     },
     "metadata": {},
     "output_type": "display_data"
    },
    {
     "data": {
      "text/latex": [
       "$\\displaystyle \\text{The solution for} \\int_{3}^6  (\\frac{x}{3 \\sqrt{x^{2} - 8}}) dx \\quad\\Longrightarrow \\quad - \\frac{1}{3} + \\frac{2 \\sqrt{7}}{3}$"
      ],
      "text/plain": [
       "<IPython.core.display.Math object>"
      ]
     },
     "metadata": {},
     "output_type": "display_data"
    }
   ],
   "source": [
    "# Problem 5: We use varaible x from the preceding problem.\n",
    "\n",
    "# Define the problem\n",
    "g_x = x / 3 / sym.sqrt(x**2 - 8)\n",
    "\n",
    "# Integrate f_x\n",
    "g_int = sym.integrate(g_x)\n",
    "\n",
    "# Compute the definite integral from x = -3 to x = 0\n",
    "solution = sym.integrate(g_x, (x, 3,6))\n",
    "\n",
    "# Print the solution\n",
    "display(Math('\\\\text{Find the indefinite integral for} \\int %sdx.' %sym.latex(g_x)))\n",
    "display(Math('\\\\text{The solution for} \\\\int_{3}^6  (%s) dx \\\\quad\\\\Longrightarrow \\\\quad %s' \\\n",
    "             %(sym.latex(g_x), sym.latex(solution))))"
   ]
  },
  {
   "cell_type": "code",
   "execution_count": 85,
   "metadata": {
    "ExecuteTime": {
     "end_time": "2021-09-19T02:09:47.485882Z",
     "start_time": "2021-09-19T02:09:47.402996Z"
    }
   },
   "outputs": [
    {
     "data": {
      "text/latex": [
       "$\\displaystyle \\text{Find the indefinite integral for} \\int_{- \\frac{\\pi}{4}}^\\frac{\\pi}{4} \\sin{\\left(2 x \\right)}dx.$"
      ],
      "text/plain": [
       "<IPython.core.display.Math object>"
      ]
     },
     "metadata": {},
     "output_type": "display_data"
    },
    {
     "data": {
      "text/latex": [
       "$\\displaystyle \\text{The solution for} \\int_{- \\frac{\\pi}{4}}^\\frac{\\pi}{4}  \\sin{\\left(2 x \\right)} dx \\quad\\Longrightarrow \\quad 0$"
      ],
      "text/plain": [
       "<IPython.core.display.Math object>"
      ]
     },
     "metadata": {},
     "output_type": "display_data"
    }
   ],
   "source": [
    "# Problem 6: We use varaible x from the preceding problem.\n",
    "\n",
    "# Define the problem\n",
    "g_x = sym.sin(2*x)\n",
    "\n",
    "# Integrate f_x\n",
    "g_int = sym.integrate(g_x)\n",
    "\n",
    "# Compute the definite integral from x = -3 to x = 0\n",
    "solution = sym.integrate(g_x, (x, -sym.pi/4,sym.pi/4))\n",
    "\n",
    "# Write the solution\n",
    "display(Math('\\\\text{Find the indefinite integral for} \\int_{%s}^%s %sdx.' \\\n",
    "             %(sym.latex(-sym.pi/4), sym.latex(sym.pi/4), sym.latex(g_x))))\n",
    "        \n",
    "display(Math('\\\\text{The solution for} \\\\int_{%s}^%s  %s dx \\\\quad\\\\Longrightarrow \\\\quad %s' \\\n",
    "             %(sym.latex(-sym.pi/4), sym.latex(sym.pi/4), sym.latex(g_x), sym.latex(solution))))"
   ]
  },
  {
   "cell_type": "markdown",
   "metadata": {},
   "source": [
    "### Additional problems for live coding"
   ]
  },
  {
   "cell_type": "code",
   "execution_count": 145,
   "metadata": {
    "ExecuteTime": {
     "end_time": "2021-09-20T01:00:52.058035Z",
     "start_time": "2021-09-20T01:00:52.027483Z"
    }
   },
   "outputs": [
    {
     "data": {
      "text/latex": [
       "$\\displaystyle \\text{The solution for } \\int_{0}^\\pi \\cos{\\left(\\frac{x}{2} \\right)}dx \\quad \\Longleftrightarrow \\quad 2 \\sin{\\left(\\frac{x}{2} \\right)} \\quad \\Longrightarrow 2$"
      ],
      "text/plain": [
       "<IPython.core.display.Math object>"
      ]
     },
     "metadata": {},
     "output_type": "display_data"
    }
   ],
   "source": [
    "# Definite variable x\n",
    "x = sym.symbols('x')\n",
    "\n",
    "# Write the function\n",
    "fx = sym.cos(x/2)\n",
    "\n",
    "# Integrate the function/equation\n",
    "fx_int = sym.integrate(fx)\n",
    "\n",
    "# Solution\n",
    "solution = sym.integrate(fx, (x, 0, sym.pi))\n",
    "\n",
    "# Print the results\n",
    "display(Math('\\\\text{The solution for } \\int_{0}^%s %sdx \\\\quad \\\\Longleftrightarrow \\\\quad %s \\\\quad \\\\Longrightarrow %s'\\\n",
    "             %(sym.latex(sym.pi), sym.latex(fx), sym.latex(fx_int), sym.latex(solution))))"
   ]
  },
  {
   "cell_type": "code",
   "execution_count": 147,
   "metadata": {
    "ExecuteTime": {
     "end_time": "2021-09-20T01:01:58.129444Z",
     "start_time": "2021-09-20T01:01:58.120537Z"
    }
   },
   "outputs": [
    {
     "data": {
      "text/latex": [
       "$\\displaystyle \\text{The solution to the indefinite integral} \\int \\left(x^{2} + 1\\right)^{3}dx \\quad \\Longleftrightarrow \\quad \\frac{x^{7}}{7} + \\frac{3 x^{5}}{5} + x^{3} + x + C$"
      ],
      "text/plain": [
       "<IPython.core.display.Math object>"
      ]
     },
     "metadata": {},
     "output_type": "display_data"
    }
   ],
   "source": [
    "# Define variable x\n",
    "x = sym.symbols('x')\n",
    "\n",
    "# The equation\n",
    "gx = (x**2 + 1)**3\n",
    "\n",
    "# Integrate gx\n",
    "gx_int = sym.integrate(gx)\n",
    "\n",
    "# Print the solution\n",
    "display(Math('\\\\text{The solution to the indefinite integral} \\int %sdx \\\\quad \\\\Longleftrightarrow \\\\quad %s + C' \\\n",
    "            %(sym.latex(gx), sym.latex(gx_int))))"
   ]
  },
  {
   "cell_type": "code",
   "execution_count": null,
   "metadata": {},
   "outputs": [],
   "source": []
  }
 ],
 "metadata": {
  "kernelspec": {
   "display_name": "Python 3",
   "language": "python",
   "name": "python3"
  },
  "language_info": {
   "codemirror_mode": {
    "name": "ipython",
    "version": 3
   },
   "file_extension": ".py",
   "mimetype": "text/x-python",
   "name": "python",
   "nbconvert_exporter": "python",
   "pygments_lexer": "ipython3",
   "version": "3.8.5"
  },
  "latex_envs": {
   "LaTeX_envs_menu_present": false,
   "autoclose": false,
   "autocomplete": true,
   "bibliofile": "biblio.bib",
   "cite_by": "apalike",
   "current_citInitial": 1,
   "eqLabelWithNumbers": true,
   "eqNumInitial": 1,
   "hotkeys": {
    "equation": "Ctrl-E",
    "itemize": "Ctrl-I"
   },
   "labels_anchors": false,
   "latex_user_defs": false,
   "report_style_numbering": false,
   "user_envs_cfg": false
  }
 },
 "nbformat": 4,
 "nbformat_minor": 4
}
